{
 "cells": [
  {
   "cell_type": "code",
   "execution_count": 2,
   "id": "f81480ab",
   "metadata": {},
   "outputs": [
    {
     "name": "stdout",
     "output_type": "stream",
     "text": [
      "Successful connection to the database.\n",
      "US data successfully loaded into a Pandas DataFrame.\n",
      "Number of rows loaded: 1221\n",
      "Database connection closed.\n"
     ]
    },
    {
     "name": "stderr",
     "output_type": "stream",
     "text": [
      "d:\\DATA ANALITICS\\Projects_Data_Analyst\\PAYMENT_CARD_FRAUD_DETECTION_2025(SQL,PYTHON,POWER_BI)\\notebooks\\data_loader.py:37: UserWarning: pandas only supports SQLAlchemy connectable (engine/connection) or database string URI or sqlite3 DBAPI2 connection. Other DBAPI2 objects are not tested. Please consider using SQLAlchemy.\n",
      "  df_usa = pd.read_sql_query(query, conn)\n",
      "C:\\Users\\darie\\AppData\\Local\\Temp\\ipykernel_10908\\253459821.py:10: FutureWarning: A value is trying to be set on a copy of a DataFrame or Series through chained assignment using an inplace method.\n",
      "The behavior will change in pandas 3.0. This inplace method will never work because the intermediate object on which we are setting values always behaves as a copy.\n",
      "\n",
      "For example, when doing 'df[col].method(value, inplace=True)', try using 'df.method({col: value}, inplace=True)' or df[col] = df[col].method(value) instead, to perform the operation inplace on the original object.\n",
      "\n",
      "\n",
      "  df_temp['payment_method'].fillna('Unknown', inplace=True)\n"
     ]
    }
   ],
   "source": [
    "# Importing Libraries\n",
    "from data_loader import load_data\n",
    "import pandas as pd\n",
    "import seaborn as sns\n",
    "import matplotlib.pyplot as plt  \n",
    "import os\n",
    "\n",
    "df = load_data()\n",
    "df_temp = df.copy()\n",
    "df_temp['payment_method'].fillna('Unknown', inplace=True)"
   ]
  },
  {
   "cell_type": "code",
   "execution_count": 3,
   "id": "6ee7b195",
   "metadata": {},
   "outputs": [],
   "source": [
    "# The \"../\" navigates one level up from the \"notebooks\" folder\n",
    "data_folder = '../data'\n",
    "\n",
    "# Ensure the folder exists, if not, create it\n",
    "if not os.path.exists(data_folder):\n",
    "    os.makedirs(data_folder)\n",
    "\n",
    "# Export the DataFrame to the data folder\n",
    "df_temp.to_csv(os.path.join(data_folder, 'fraud_data.csv'), index=False)"
   ]
  }
 ],
 "metadata": {
  "kernelspec": {
   "display_name": "data_analytics",
   "language": "python",
   "name": "python3"
  },
  "language_info": {
   "codemirror_mode": {
    "name": "ipython",
    "version": 3
   },
   "file_extension": ".py",
   "mimetype": "text/x-python",
   "name": "python",
   "nbconvert_exporter": "python",
   "pygments_lexer": "ipython3",
   "version": "3.11.13"
  }
 },
 "nbformat": 4,
 "nbformat_minor": 5
}
